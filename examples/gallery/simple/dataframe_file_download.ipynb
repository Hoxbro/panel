{
 "cells": [
  {
   "cell_type": "markdown",
   "metadata": {},
   "source": [
    "# Dataframe Download\n",
    "\n",
    "Allowing a user to download data files from an application is very common. \n",
    "\n",
    "A common source of data is a DataFrame.\n",
    "\n",
    "In this notebook we provide example code for downloading in various formats"
   ]
  },
  {
   "cell_type": "code",
   "execution_count": null,
   "metadata": {},
   "outputs": [],
   "source": [
    "import pandas as pd\n",
    "import panel as pn\n",
    "from io import BytesIO\n",
    "\n",
    "pn.extension()"
   ]
  },
  {
   "cell_type": "markdown",
   "metadata": {},
   "source": [
    "## XLSX\n",
    "\n",
    "Please note you need to have the packages\n",
    "\n",
    "- [XlsxWriter](https://xlsxwriter.readthedocs.io/index.html)\n",
    "- [xlwt](https://pypi.org/project/xlwt/)\n",
    "\n",
    "installed for being able to use the `.to_excel` method of a DataFrame."
   ]
  },
  {
   "cell_type": "code",
   "execution_count": null,
   "metadata": {},
   "outputs": [],
   "source": [
    "data=pd.DataFrame({\"a\": [1]})\n",
    "\n",
    "def get_file():\n",
    "    output = BytesIO()\n",
    "    writer = pd.ExcelWriter(output, engine='xlsxwriter')\n",
    "    data.to_excel(writer, sheet_name=\"Data\")\n",
    "    writer.save()\n",
    "    output.seek(0)\n",
    "    return output\n",
    "\n",
    "file_download = pn.widgets.FileDownload(filename=\"data.xlsx\", callback=get_file)\n",
    "file_download"
   ]
  },
  {
   "cell_type": "code",
   "execution_count": null,
   "metadata": {},
   "outputs": [],
   "source": [
    "### More to come\n",
    "\n",
    "Formats: CSV, Parquet, "
   ]
  },
  {
   "cell_type": "markdown",
   "metadata": {},
   "source": [
    "### Credits\n",
    "\n",
    "- [Marc Skov Madsen](https://datamodelsanalytics.com)"
   ]
  },
  {
   "cell_type": "code",
   "execution_count": null,
   "metadata": {},
   "outputs": [],
   "source": []
  }
 ],
 "metadata": {
  "kernelspec": {
   "display_name": "panel",
   "language": "python",
   "name": "panel"
  },
  "language_info": {
   "codemirror_mode": {
    "name": "ipython",
    "version": 3
   },
   "file_extension": ".py",
   "mimetype": "text/x-python",
   "name": "python",
   "nbconvert_exporter": "python",
   "pygments_lexer": "ipython3",
   "version": "3.7.4"
  }
 },
 "nbformat": 4,
 "nbformat_minor": 4
}
